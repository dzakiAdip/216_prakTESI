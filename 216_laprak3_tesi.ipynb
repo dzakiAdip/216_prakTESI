{
  "nbformat": 4,
  "nbformat_minor": 0,
  "metadata": {
    "colab": {
      "provenance": [],
      "authorship_tag": "ABX9TyOG1jU0loTkVcSbxDNVB8NO",
      "include_colab_link": true
    },
    "kernelspec": {
      "name": "python3",
      "display_name": "Python 3"
    },
    "language_info": {
      "name": "python"
    }
  },
  "cells": [
    {
      "cell_type": "markdown",
      "metadata": {
        "id": "view-in-github",
        "colab_type": "text"
      },
      "source": [
        "<a href=\"https://colab.research.google.com/github/dzakiAdip/216_prakTESI/blob/main/216_laprak3_tesi.ipynb\" target=\"_parent\"><img src=\"https://colab.research.google.com/assets/colab-badge.svg\" alt=\"Open In Colab\"/></a>"
      ]
    },
    {
      "cell_type": "markdown",
      "source": [
        "# **Langkah Praktikum 1**\n",
        "Tentukan fungsi objektif\n",
        "Minimumkan:\n",
        "\n",
        "`f(x)` = x<sup>2</sup>\n",
        "\n",
        "dengan batasan: `−5 ≤ x ≤ 5` , bertipe real"
      ],
      "metadata": {
        "id": "Um_XU6_qcsHi"
      }
    },
    {
      "cell_type": "code",
      "source": [
        "def mainSA(self):\n",
        "    \"\"\"\n",
        "    Metode utama untuk menjalankan algoritma Simulated Annealing.\n",
        "    \"\"\"\n",
        "    # Inisialisasi temperature awal\n",
        "    temperature = self.getInitTemperature()\n",
        "\n",
        "    # Generate solusi awal secara acak dalam rentang variabel\n",
        "    current_solution = random.uniform(self.varRanges[0], self.varRanges[1])\n",
        "    current_energy = self.getSolution(current_solution)\n",
        "\n",
        "    # Inisialisasi solusi terbaik\n",
        "    best_solution = current_solution\n",
        "    best_energy = current_energy\n",
        "\n",
        "    print(f\"Start: Temperature = {temperature:.4f}\")\n",
        "    print(f\"Initial solution: x = {current_solution:.4f}, f(x) = {current_energy:.4f}\")\n",
        "\n",
        "    # Proses iterasi Simulated Annealing\n",
        "    iteration = 0\n",
        "    while temperature > self.minTemperature and iteration < self.maxIter:\n",
        "        # Generate solusi kandidat dalam rentang yang lebih sempit di sekitar solusi saat ini\n",
        "        varRanges = self.getNewVarRanges(current_solution)\n",
        "        candidate = self.getCandidate(varRanges)\n",
        "        candidate_energy = self.getSolution(candidate)\n",
        "\n",
        "        # Hitung perubahan energi\n",
        "        delta_energy = candidate_energy - current_energy\n",
        "\n",
        "        # Kriteria penerimaan solusi baru\n",
        "        if delta_energy < 0:\n",
        "            # Terima solusi yang lebih baik\n",
        "            current_solution = candidate\n",
        "            current_energy = candidate_energy\n",
        "        else:\n",
        "            # Terima solusi yang lebih buruk dengan probabilitas Boltzmann\n",
        "            probability = math.exp(-delta_energy / temperature)\n",
        "            if random.random() < probability:\n",
        "                current_solution = candidate\n",
        "                current_energy = candidate_energy\n",
        "\n",
        "        # Update solusi terbaik\n",
        "        if current_energy < best_energy:\n",
        "            best_solution = current_solution\n",
        "            best_energy = current_energy\n",
        "\n",
        "        # Cooling schedule\n",
        "        temperature *= 0.95\n",
        "        iteration += 1\n",
        "\n",
        "        # Print progress setiap 10 iterasi\n",
        "        if iteration % 10 == 0:\n",
        "            print(f\"Iteration {iteration}: Temp = {temperature:.4f}, Best f(x) = {best_energy:.6f}\")\n",
        "\n",
        "        # Stopping condition berdasarkan kualitas solusi\n",
        "        if best_energy <= self.stoppingValue:\n",
        "            break\n",
        "\n",
        "    # Output hasil akhir\n",
        "    print(f\"\\n=== OPTIMAL SOLUTION FOUND ===\")\n",
        "    print(f\"Best x = {best_solution:.6f}\")\n",
        "    print(f\"Minimum f(x) = {best_energy:.6f}\")\n",
        "    print(f\"Total iterations: {iteration}\")\n",
        "\n",
        "    return best_solution, best_energy"
      ],
      "metadata": {
        "id": "DwUxdi2IbP8o"
      },
      "execution_count": null,
      "outputs": []
    },
    {
      "cell_type": "markdown",
      "source": [
        "# **Testing**"
      ],
      "metadata": {
        "id": "n9y0RUWzjX_d"
      }
    },
    {
      "cell_type": "code",
      "source": [
        "import math\n",
        "import random\n",
        "\n",
        "class SimulatedAnnealing:\n",
        "    def __init__(self, varRanges, numOfInitSolution, maxIter, stoppingValue, minTemperature):\n",
        "        self.varRanges = varRanges\n",
        "        self.numOfInitSolution = numOfInitSolution\n",
        "        self.maxIter = maxIter\n",
        "        self.stoppingValue = stoppingValue\n",
        "        self.minTemperature = minTemperature\n",
        "\n",
        "    def getSolution(self, var):\n",
        "        \"\"\"Fungsi objektif: f(x) = x^2\"\"\"\n",
        "        return var**2\n",
        "\n",
        "    def getInitTemperature(self):\n",
        "        \"\"\"Menghitung temperature awal\"\"\"\n",
        "        total_energy = 0\n",
        "        for _ in range(self.numOfInitSolution):\n",
        "            x = random.uniform(self.varRanges[0], self.varRanges[1])\n",
        "            total_energy += self.getSolution(x)\n",
        "        return total_energy / self.numOfInitSolution\n",
        "\n",
        "    def getCandidate(self, varRanges):\n",
        "        \"\"\"Generate kandidat solusi\"\"\"\n",
        "        u = random.uniform(0, 1)\n",
        "        return varRanges[0] + u * (varRanges[1] - varRanges[0])\n",
        "\n",
        "    def getNewVarRanges(self, candidate):\n",
        "        \"\"\"Mendapatkan rentang variabel baru di sekitar kandidat\"\"\"\n",
        "        # According to the algorithm description, the perturbation is between -1 and 1\n",
        "        lowerBound = candidate - 1\n",
        "        upperBound = candidate + 1\n",
        "        if lowerBound < self.varRanges[0]:\n",
        "            lowerBound = self.varRanges[0]\n",
        "        if upperBound > self.varRanges[1]:\n",
        "            upperBound = self.varRanges[1]\n",
        "        return [lowerBound, upperBound]\n",
        "\n",
        "    def mainSA(self):\n",
        "        \"\"\"\n",
        "        Metode utama untuk menjalankan algoritma Simulated Annealing.\n",
        "        \"\"\"\n",
        "        # Inisialisasi temperature awal\n",
        "        temperature = self.getInitTemperature()\n",
        "\n",
        "        # Generate solusi awal secara acak dalam rentang variabel\n",
        "        current_solution = random.uniform(self.varRanges[0], self.varRanges[1])\n",
        "        current_energy = self.getSolution(current_solution)\n",
        "\n",
        "        # Inisialisasi solusi terbaik\n",
        "        best_solution = current_solution\n",
        "        best_energy = current_energy\n",
        "\n",
        "        print(f\"Start: Temperature = {temperature:.4f}\")\n",
        "        print(f\"Initial solution: x = {current_solution:.4f}, f(x) = {current_energy:.4f}\")\n",
        "\n",
        "        # Proses iterasi Simulated Annealing\n",
        "        iteration = 0\n",
        "        while temperature > self.minTemperature and iteration < self.maxIter:\n",
        "            # Generate solusi kandidat dalam rentang yang lebih sempit di sekitar solusi saat ini\n",
        "            varRanges = self.getNewVarRanges(current_solution)\n",
        "            candidate = self.getCandidate(varRanges)\n",
        "            candidate_energy = self.getSolution(candidate)\n",
        "\n",
        "            # Hitung perubahan energi\n",
        "            delta_energy = candidate_energy - current_energy\n",
        "\n",
        "            # Kriteria penerimaan solusi baru\n",
        "            if delta_energy < 0:\n",
        "                # Terima solusi yang lebih baik\n",
        "                current_solution = candidate\n",
        "                current_energy = candidate_energy\n",
        "            else:\n",
        "                # Terima solusi yang lebih buruk dengan probabilitas Boltzmann\n",
        "                probability = math.exp(-delta_energy / temperature)\n",
        "                if random.random() < probability:\n",
        "                    current_solution = candidate\n",
        "                    current_energy = candidate_energy\n",
        "\n",
        "            # Update solusi terbaik\n",
        "            if current_energy < best_energy:\n",
        "                best_solution = current_solution\n",
        "                best_energy = current_energy\n",
        "\n",
        "            # Cooling schedule\n",
        "            temperature *= 0.95\n",
        "            iteration += 1\n",
        "\n",
        "            # Print progress setiap 10 iterasi\n",
        "            if iteration % 10 == 0:\n",
        "                print(f\"Iteration {iteration}: Temp = {temperature:.4f}, Best f(x) = {best_energy:.6f}\")\n",
        "\n",
        "            # Stopping condition berdasarkan kualitas solusi\n",
        "            if best_energy <= self.stoppingValue:\n",
        "                break\n",
        "\n",
        "        # Output hasil akhir\n",
        "        print(f\"\\n=== OPTIMAL SOLUTION FOUND ===\")\n",
        "        print(f\"Best x = {best_solution:.6f}\")\n",
        "        print(f\"Minimum f(x) = {best_energy:.6f}\")\n",
        "        print(f\"Total iterations: {iteration}\")\n",
        "\n",
        "        return best_solution, best_energy\n",
        "\n",
        "# Testing\n",
        "if __name__ == \"__main__\":\n",
        "    sa = SimulatedAnnealing(\n",
        "        varRanges=[-5, 5],\n",
        "        numOfInitSolution=10,\n",
        "        maxIter=100,\n",
        "        stoppingValue=0.0001,\n",
        "        minTemperature=0.001\n",
        "    )\n",
        "\n",
        "    best_x, best_fx = sa.mainSA()"
      ],
      "metadata": {
        "colab": {
          "base_uri": "https://localhost:8080/"
        },
        "id": "OmsSTrDlhp0m",
        "outputId": "4364c040-bae0-42ff-886f-0974ae80ed0a"
      },
      "execution_count": null,
      "outputs": [
        {
          "output_type": "stream",
          "name": "stdout",
          "text": [
            "Start: Temperature = 7.5334\n",
            "Initial solution: x = -0.7151, f(x) = 0.5114\n",
            "Iteration 10: Temp = 4.5106, Best f(x) = 0.001693\n",
            "\n",
            "=== OPTIMAL SOLUTION FOUND ===\n",
            "Best x = 0.006959\n",
            "Minimum f(x) = 0.000048\n",
            "Total iterations: 19\n"
          ]
        }
      ]
    },
    {
      "cell_type": "markdown",
      "source": [
        "# **Import Library**"
      ],
      "metadata": {
        "id": "t0cUFly9QY24"
      }
    },
    {
      "cell_type": "code",
      "source": [
        "import pandas as pd\n",
        "import numpy as np\n",
        "import random\n",
        "from math import exp"
      ],
      "metadata": {
        "id": "AN25E-n7QZnt"
      },
      "execution_count": null,
      "outputs": []
    },
    {
      "cell_type": "markdown",
      "source": [
        "# **Langkah Praktikum 2**"
      ],
      "metadata": {
        "id": "mh8cbGSnQiU1"
      }
    },
    {
      "cell_type": "code",
      "source": [
        "class SimulatedAnnealing:\n",
        "    def __init__(self, varRanges, numOfInitSolution, maxIter, stoppingValue, minTemperature):\n",
        "        self.varRanges = varRanges\n",
        "        self.numOfInitSolution = numOfInitSolution\n",
        "        self.maxIter = maxIter\n",
        "        self.stoppingValue = stoppingValue\n",
        "        self.minTemperature = minTemperature\n",
        "\n",
        "    def objective_function(self, x):\n",
        "        \"\"\"Fungsi objektif: f(x) = x^2\"\"\"\n",
        "        return x**2\n",
        "\n",
        "    def generate_initial_solution(self):\n",
        "        \"\"\"Generate solusi awal dalam range varRanges\"\"\"\n",
        "        import random\n",
        "        return random.uniform(self.varRanges[0], self.varRanges[1])\n",
        "\n",
        "    def run(self):\n",
        "        \"\"\"Menjalankan algoritma Simulated Annealing\"\"\"\n",
        "        import random\n",
        "        import math\n",
        "\n",
        "        # Generate solusi awal\n",
        "        current_solution = self.generate_initial_solution()\n",
        "        current_energy = self.objective_function(current_solution)\n",
        "\n",
        "        best_solution = current_solution\n",
        "        best_energy = current_energy\n",
        "\n",
        "        temperature = 100.0  # Temperature awal\n",
        "        cooling_rate = 0.95\n",
        "\n",
        "        print(\"=== SIMULATED ANNEALING ===\")\n",
        "        print(f\"Initial solution: x = {current_solution:.4f}, f(x) = {current_energy:.4f}\")\n",
        "\n",
        "        for iteration in range(self.maxIter):\n",
        "            # Generate neighbor solution\n",
        "            step_size = (self.varRanges[1] - self.varRanges[0]) * 0.1\n",
        "            new_solution = current_solution + random.uniform(-step_size, step_size)\n",
        "\n",
        "            # Boundary check\n",
        "            new_solution = max(min(new_solution, self.varRanges[1]), self.varRanges[0])\n",
        "            new_energy = self.objective_function(new_solution)\n",
        "\n",
        "            # Calculate energy difference\n",
        "            energy_diff = new_energy - current_energy\n",
        "\n",
        "            # Acceptance criteria\n",
        "            if energy_diff < 0:\n",
        "                # Accept better solution\n",
        "                current_solution = new_solution\n",
        "                current_energy = new_energy\n",
        "            else:\n",
        "                # Accept worse solution with probability\n",
        "                probability = math.exp(-energy_diff / temperature)\n",
        "                if random.random() < probability:\n",
        "                    current_solution = new_solution\n",
        "                    current_energy = new_energy\n",
        "\n",
        "            # Update best solution\n",
        "            if current_energy < best_energy:\n",
        "                best_solution = current_solution\n",
        "                best_energy = current_energy\n",
        "\n",
        "            # Cooling\n",
        "            temperature *= cooling_rate\n",
        "\n",
        "            print(f\"Iteration {iteration+1}: x = {current_solution:.4f}, f(x) = {current_energy:.4f}, T = {temperature:.4f}\")\n",
        "\n",
        "            # Stopping condition\n",
        "            if best_energy <= self.stoppingValue or temperature <= self.minTemperature:\n",
        "                print(f\"Stopping condition reached!\")\n",
        "                break\n",
        "\n",
        "        print(f\"\\n=== RESULTS ===\")\n",
        "        print(f\"Best solution: x = {best_solution:.6f}\")\n",
        "        print(f\"Best energy: f(x) = {best_energy:.6f}\")\n",
        "\n",
        "        return best_solution, best_energy\n",
        "\n",
        "# Parameter yang benar\n",
        "varRanges = [-5, 5]\n",
        "numOfInitSolution = 4\n",
        "maxIter = 5\n",
        "stoppingValue = 0.005\n",
        "minTemperature = 0.01  # Ini yang sebelumnya missing\n",
        "\n",
        "# Inisialisasi dan run\n",
        "run = SimulatedAnnealing(varRanges, numOfInitSolution, maxIter, stoppingValue, minTemperature)\n",
        "best_x, best_f = run.run()"
      ],
      "metadata": {
        "colab": {
          "base_uri": "https://localhost:8080/"
        },
        "id": "RIUHY-kCQi0l",
        "outputId": "68e12744-f551-4388-fa8c-b94115f5a92c"
      },
      "execution_count": null,
      "outputs": [
        {
          "output_type": "stream",
          "name": "stdout",
          "text": [
            "=== SIMULATED ANNEALING ===\n",
            "Initial solution: x = 0.0207, f(x) = 0.0004\n",
            "Iteration 1: x = 0.3656, f(x) = 0.1337, T = 95.0000\n",
            "Stopping condition reached!\n",
            "\n",
            "=== RESULTS ===\n",
            "Best solution: x = 0.020664\n",
            "Best energy: f(x) = 0.000427\n"
          ]
        }
      ]
    },
    {
      "cell_type": "markdown",
      "source": [
        "# **Langkah Praktikum 3**"
      ],
      "metadata": {
        "id": "NnEmOjphRQy-"
      }
    },
    {
      "cell_type": "code",
      "source": [
        "def getSolution(self, var):\n",
        "    return var**2"
      ],
      "metadata": {
        "id": "nWJad-aURRN9"
      },
      "execution_count": null,
      "outputs": []
    },
    {
      "cell_type": "code",
      "source": [
        "def getInitTemperature(self):\n",
        "\n",
        "    ret = 0\n",
        "    for _ in range(self.numOfInitSolution):\n",
        "        # Generate solusi acak dalam range yang ditentukan\n",
        "        random_solution = random.uniform(self.varRanges[0], self.varRanges[1])\n",
        "\n",
        "        # Hitung nilai fungsi objektif untuk solusi acak\n",
        "        solution_energy = self.getSolution(random_solution)\n",
        "\n",
        "        # Akumulasi total energi\n",
        "        ret += solution_energy\n",
        "\n",
        "    # Return rata-rata energi sebagai temperature awal\n",
        "    return ret / self.numOfInitSolution"
      ],
      "metadata": {
        "id": "PWS0foCpRXtl"
      },
      "execution_count": null,
      "outputs": []
    },
    {
      "cell_type": "markdown",
      "source": [
        "# **Langkah Praktikum 4**"
      ],
      "metadata": {
        "id": "5hLKV2yeR8JF"
      }
    },
    {
      "cell_type": "code",
      "source": [
        "def mainSA(self):\n",
        "    # Menghitung temperature awal\n",
        "    temperature = self.getInitTemperature()\n",
        "\n",
        "    # Generate nilai solusi awal secara acak dalam rentang variabel\n",
        "    solutionVals = random.uniform(self.varRanges[0], self.varRanges[1])\n",
        "\n",
        "    # Hitung nilai fungsi objektif untuk solusi awal\n",
        "    solution = self.getSolution(solutionVals)"
      ],
      "metadata": {
        "id": "dkS20IjiR8nl"
      },
      "execution_count": null,
      "outputs": []
    },
    {
      "cell_type": "markdown",
      "source": [
        "# **Langkah Praktikum 5**"
      ],
      "metadata": {
        "id": "JDu5vfm8SIA0"
      }
    },
    {
      "cell_type": "code",
      "source": [
        "def getCandidate(self, varRanges):\n",
        "\n",
        "    # Generate bilangan acak antara 0 dan 1\n",
        "    u = random.uniform(0, 1)\n",
        "\n",
        "    # Transformasi ke rentang variabel yang diinginkan\n",
        "    val = varRanges[0] + u * (varRanges[1] - varRanges[0])\n",
        "\n",
        "    return val"
      ],
      "metadata": {
        "id": "Fbe9jS-ESIYs"
      },
      "execution_count": null,
      "outputs": []
    },
    {
      "cell_type": "markdown",
      "source": [
        "# **Langkah Praktikum 6**"
      ],
      "metadata": {
        "id": "nSbt_4XKSbHk"
      }
    },
    {
      "cell_type": "code",
      "source": [
        "def getNewVarRanges(self, candidate):\n",
        "\n",
        "    # Hitung batas bawah dan atas baru relatif terhadap kandidat\n",
        "    lowerBound = -6 + candidate\n",
        "    upperBound = 6 + candidate\n",
        "\n",
        "    # Pastikan batas bawah tidak melebihi batas minimum rentang asli\n",
        "    if lowerBound < self.varRanges[0]:\n",
        "        lowerBound = self.varRanges[0]\n",
        "\n",
        "    # Pastikan batas atas tidak melebihi batas maksimum rentang asli\n",
        "    if upperBound > self.varRanges[1]:\n",
        "        upperBound = self.varRanges[1]\n",
        "\n",
        "    return [lowerBound, upperBound]"
      ],
      "metadata": {
        "id": "zwOsAOeASbps"
      },
      "execution_count": null,
      "outputs": []
    },
    {
      "cell_type": "markdown",
      "source": [
        "# **Langkah Praktikum 7**"
      ],
      "metadata": {
        "id": "76IhHeBISrsn"
      }
    },
    {
      "cell_type": "code",
      "source": [
        "def mainSA(self):\n",
        "\n",
        "    # Mendapatkan temperature awal dari solusi inisial\n",
        "    temperature = self.getInitTemperature()\n",
        "\n",
        "    # Generate solusi awal secara acak dalam rentang variabel\n",
        "    solutionVals = random.uniform(self.varRanges[0], self.varRanges[1])\n",
        "\n",
        "    # Hitung nilai fungsi objektif untuk solusi awal\n",
        "    solution = self.getSolution(solutionVals)\n",
        "\n",
        "    # Generate kandidat solusi baru dalam rentang variabel\n",
        "    candidate = self.getCandidate(self.varRanges)\n",
        "\n",
        "    # Dapatkan rentang variabel baru berdasarkan kandidat\n",
        "    varRanges = self.getNewVarRanges(candidate)\n",
        "\n",
        "    print(f\"Initial Temperature: {temperature}\")\n",
        "    print(f\"Initial Solution: x = {solutionVals}, f(x) = {solution}\")\n",
        "    print(f\"First Candidate: x = {candidate}\")\n",
        "    print(f\"New Variable Ranges: {varRanges}\")\n",
        "\n",
        "    return solutionVals, solution"
      ],
      "metadata": {
        "id": "ju0PHWw4SsMc"
      },
      "execution_count": null,
      "outputs": []
    },
    {
      "cell_type": "markdown",
      "source": [
        "# **Langkah Praktikum 8**"
      ],
      "metadata": {
        "id": "BZDOToHgTFTV"
      }
    },
    {
      "cell_type": "code",
      "source": [
        "def mainSA(self):\n",
        "    \"\"\"\n",
        "    Metode utama untuk menjalankan algoritma Simulated Annealing.\n",
        "\n",
        "    Alur:\n",
        "    1. Inisialisasi temperature dan solusi awal\n",
        "    2. Generate kandidat dan rentang variabel baru\n",
        "    3. Iterasi proses annealing hingga kondisi berhenti terpenuhi\n",
        "    \"\"\"\n",
        "    # Inisialisasi temperature awal\n",
        "    temperature = self.getInitTemperature()\n",
        "\n",
        "    # Generate solusi awal secara acak dalam rentang variabel\n",
        "    solutionVals = random.uniform(self.varRanges[0], self.varRanges[1])\n",
        "\n",
        "    # Hitung nilai fungsi objektif untuk solusi awal\n",
        "    solution = self.getSolution(solutionVals)\n",
        "\n",
        "    # Inisialisasi solusi terbaik\n",
        "    best_solution = solution\n",
        "    best_solutionVals = solutionVals\n",
        "\n",
        "    # Generate kandidat solusi pertama dan rentang variabel baru\n",
        "    candidate = self.getCandidate(self.varRanges)\n",
        "    varRanges = self.getNewVarRanges(candidate)\n",
        "\n",
        "    # Proses iterasi Simulated Annealing\n",
        "    while temperature > self.minTemperature:  # Perbaikan: gunakan minTemperature bukan stoppingValue\n",
        "        for i in range(self.maxIter):\n",
        "            # Generate kandidat solusi baru dalam rentang variabel saat ini\n",
        "            candidate = self.getCandidate(varRanges)\n",
        "            varRanges = self.getNewVarRanges(candidate)\n",
        "\n",
        "            # Hitung nilai fungsi objektif untuk kandidat (neighbor)\n",
        "            neighbor = self.getSolution(candidate)\n",
        "\n",
        "            # Hitung perubahan energi antara solusi saat ini dan kandidat\n",
        "            deltaE = neighbor - solution\n",
        "\n",
        "            # Hitung probabilitas metropolis untuk penerimaan solusi yang lebih buruk\n",
        "            metropolis = math.exp(-deltaE / temperature)\n",
        "\n",
        "            # Kriteria penerimaan solusi baru\n",
        "            if deltaE <= 0 or random.uniform(0, 1) < metropolis:\n",
        "                # Terima solusi baru\n",
        "                solutionVals, solution = candidate, neighbor\n",
        "\n",
        "                # Update solusi terbaik\n",
        "                if solution < best_solution:\n",
        "                    best_solution = solution\n",
        "                    best_solutionVals = solutionVals\n",
        "\n",
        "            # Cek kondisi berhenti berdasarkan nilai fungsi objektif\n",
        "            if best_solution <= self.stoppingValue:  # Perbaikan: gunakan stoppingValue untuk energi\n",
        "                print(f\"Optimal solution found: {best_solution}, {best_solutionVals}\")\n",
        "                return best_solutionVals, best_solution\n",
        "\n",
        "        # Cooling schedule - turunkan temperature setelah setiap iterasi dalam loop\n",
        "        temperature = 0.8 * temperature\n",
        "\n",
        "    # Return solusi terbaik setelah loop selesai\n",
        "    print(f\"Final solution: {best_solution}, {best_solutionVals}\")\n",
        "    return best_solutionVals, best_solution"
      ],
      "metadata": {
        "id": "Z1vN4ECGTKEr"
      },
      "execution_count": null,
      "outputs": []
    }
  ]
}