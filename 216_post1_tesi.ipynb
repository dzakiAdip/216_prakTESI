{
  "nbformat": 4,
  "nbformat_minor": 0,
  "metadata": {
    "colab": {
      "provenance": [],
      "authorship_tag": "ABX9TyMiHu5GDROewxbmSl4G3Wby",
      "include_colab_link": true
    },
    "kernelspec": {
      "name": "python3",
      "display_name": "Python 3"
    },
    "language_info": {
      "name": "python"
    }
  },
  "cells": [
    {
      "cell_type": "markdown",
      "metadata": {
        "id": "view-in-github",
        "colab_type": "text"
      },
      "source": [
        "<a href=\"https://colab.research.google.com/github/dzakiAdip/216_prakTESI/blob/main/216_post1_tesi.ipynb\" target=\"_parent\"><img src=\"https://colab.research.google.com/assets/colab-badge.svg\" alt=\"Open In Colab\"/></a>"
      ]
    },
    {
      "cell_type": "markdown",
      "source": [
        "1. Apa arti (0, 1) pada langkah praktikum 1 baris ke-6?"
      ],
      "metadata": {
        "id": "cp4vo8phMkfI"
      }
    },
    {
      "cell_type": "markdown",
      "source": [
        "**Jawab:**\n",
        "* 0 = batas bawah (minimum)\n",
        "* 1 = batas atas (maximum)\n",
        "\n",
        "Jadi random.randint(0, 1) = generate angka random antara 0 sampai 1\n",
        "dan karena ini integer, maka hanya memunculkan bilangan bulat\n",
        "> Dalam Representasi Biner\n",
        "* angka 0 menunjukkan arti OFF / FALSE / TIDAK\n",
        "* angka 1 menunjukkan arti ON / TRUE / YA\n"
      ],
      "metadata": {
        "id": "qKuOrX5UM91E"
      }
    },
    {
      "cell_type": "markdown",
      "source": [
        "2. Pilihlah salah satu search domain (kolom paling kanan)\n",
        "dari daftar Test Function Optimization. Ubahlah rentang\n",
        "variabel desain representasi real sesuai rentang search\n",
        "domain yang dipilih tersebut. Kemudian eksekusilah\n",
        "programnya."
      ],
      "metadata": {
        "id": "89CotJhLON4l"
      }
    },
    {
      "cell_type": "code",
      "source": [
        "## Menggunakan Easom Function; search domain menjadi -5 ≤ x, y ≤ 5\n",
        "\n",
        "# Mengimpor modul random untuk menghasilkan angka acak\n",
        "import random\n",
        "\n",
        "def representasiReal(variables):\n",
        "    ret = []\n",
        "    for i in range(len(variables)): # Loop untuk setiap variabel yang didefinisikan\n",
        "        # Generate angka acak antara batas bawah dan atas untuk variabel ke-i\n",
        "        ret.append(random.uniform(variables[i][0], variables[i][1]))\n",
        "    return ret # Kembalikan list yang berisi nilai acak untuk semua variabel\n",
        "\n",
        "# SEARCH DOMAIN BARU: -5 <= x, y <= 5\n",
        "variables = [\n",
        "    [-5, 5],  # Variabel x: rentang dari -5.00 hingga 5.00\n",
        "    [-5, 5]   # Variabel y: rentang dari -5.00 hingga 5.00\n",
        "]\n",
        "\n",
        "solusi = representasiReal(variables)\n",
        "print(solusi)"
      ],
      "metadata": {
        "colab": {
          "base_uri": "https://localhost:8080/"
        },
        "id": "f4cuWe6sO6Fa",
        "outputId": "152fbc82-aeef-4a28-95ca-284800974387"
      },
      "execution_count": null,
      "outputs": [
        {
          "output_type": "stream",
          "name": "stdout",
          "text": [
            "[4.807177107191505, 4.8247795159910485]\n"
          ]
        }
      ]
    },
    {
      "cell_type": "markdown",
      "source": [
        "3. Pada langkah praktikum 3 baris ke-3 gantilah (1,4) dengan (1,9),\n",
        "kemudian eksekusilah. Jelaskanlah perbedaan hasil\n",
        "keduanya?"
      ],
      "metadata": {
        "id": "a8gQ0ir9RFz2"
      }
    },
    {
      "cell_type": "code",
      "source": [
        "# Mengimpor modul random untuk menghasilkan angka acak\n",
        "import random\n",
        "# Mengimpor fungsi permutations untuk menghasilkan permutasi\n",
        "from itertools import permutations\n",
        "\n",
        "# MENGGANTI (1,4) dengan (1,9)\n",
        "# Menghasilkan semua kemungkinan permutasi dari angka 1, 2, 3, 4, 5, 6, 7, 8\n",
        "solusi = list(permutations(range(1,9)))\n",
        "# permutations(range(1,9)) menghasilkan semua urutan yang mungkin dari [1, 2, 3, 4, 5, 6, 7, 8]\n",
        "\n",
        "# Memilih indeks acak dari daftar solusi\n",
        "indexOfRepresentation = random.randint(0, len(solusi)-1)\n",
        "\n",
        "print(solusi[indexOfRepresentation])"
      ],
      "metadata": {
        "colab": {
          "base_uri": "https://localhost:8080/"
        },
        "id": "cDu40nFYSwnd",
        "outputId": "60a213a7-a126-45cb-d4ae-42986251edcc"
      },
      "execution_count": null,
      "outputs": [
        {
          "output_type": "stream",
          "name": "stdout",
          "text": [
            "(4, 6, 2, 3, 8, 7, 5, 1)\n"
          ]
        }
      ]
    },
    {
      "cell_type": "markdown",
      "source": [
        "**Penjelasan no. 3**\n",
        "\n",
        "Untuk range(1,4), kode menghasilkan semua permutasi dari 3 angka (1,2,3) yang hanya berjumlah 6 kemungkinan. Outputnya berupa tuple dengan 3 elemen, seperti (2,1,3) atau (3,2,1).\n",
        "\n",
        "Sebaliknya, range(1,9) menghasilkan permutasi dari 8 angka (1 hingga 8) yang berjumlah 40.320 kemungkinan. Outputnya menjadi tuple dengan 8 elemen, contohnya (5,1,7,3,8,2,6,4).\n",
        "\n",
        "range(1,4) tidak berarti angka 1 dan 4, tetapi berarti mulai dari 1, berhenti sebelum 4. Begitu juga dengan range(1,9) yang berarti  mulai dari 1, berhenti sebelum 9.\n",
        "Jadi, Input: angka 1, 2, 3, 4, 5, 6, 7, 8. Jumlah permutasi adalah 8! = 40,320 permutasi dengan panjang tuple 8 elemen"
      ],
      "metadata": {
        "id": "X77Y_D5TS2HI"
      }
    },
    {
      "cell_type": "markdown",
      "source": [
        "4. Tambahlah 2 larik baru di variabel variables di baris 9\n",
        "langkah praktikum 4. Tuliskanlah hasil eksekusinya."
      ],
      "metadata": {
        "id": "Kt0Ywe17UEAh"
      }
    },
    {
      "cell_type": "code",
      "source": [
        "import random\n",
        "\n",
        "def representasiDiskrit(variables):\n",
        "    ret = []\n",
        "    for i in range(len(variables)):\n",
        "        ret.append(random.randint(variables[i][0], variables[i][1]))\n",
        "    return ret\n",
        "\n",
        "# Mendefinisikan rentang nilai integer untuk 6 variabel berbeda\n",
        "variables = [\n",
        "    [1, 5],    # Variabel 1: integer antara 1 hingga 5\n",
        "    [1, 8],    # Variabel 2: integer antara 1 hingga 8\n",
        "    [1, 15],   # Variabel 3: integer antara 1 hingga 15\n",
        "    [1, 3],    # Variabel 4: integer antara 1 hingga 3\n",
        "    [10, 20],  # VARIABEL BARU 5: integer antara 10 hingga 20\n",
        "    [0, 100]   # VARIABEL BARU 6: integer antara 0 hingga 100\n",
        "]\n",
        "\n",
        "solusi = representasiDiskrit(variables)\n",
        "print(solusi)"
      ],
      "metadata": {
        "colab": {
          "base_uri": "https://localhost:8080/"
        },
        "id": "-P0W0gdZUvtH",
        "outputId": "9b4e52a0-76bc-48f8-96b1-658dd1fea925"
      },
      "execution_count": null,
      "outputs": [
        {
          "output_type": "stream",
          "name": "stdout",
          "text": [
            "[2, 3, 9, 3, 18, 79]\n"
          ]
        }
      ]
    },
    {
      "cell_type": "markdown",
      "source": [
        "**Penjelasan no. 4**\n",
        "\n",
        "Kemungkinan output: <br>\n",
        "[1, 8, 5, 3, 18, 77] <br>\n",
        "[4, 3, 14, 1, 10, 92] <br>\n",
        "[5, 1, 9, 2, 20, 33] <br>\n",
        "Dengan penambahan dua larik baru pada variabel variables, kode sekarang mendefinisikan enam variabel diskrit dengan rentang nilai yang berbeda-beda. Dua larik tambahan tersebut adalah [10, 20] untuk variabel kelima dan [0, 100] untuk variabel keenam. Fungsi representasiDiskrit akan menghasilkan enam bilangan integer acak, di mana setiap bilangan dipilih secara random dari rentang yang telah ditentukan untuk masing-masing variabel. Hasil eksekusi program berupa list yang berisi enam angka, di mana dua angka terakhir merepresentasikan nilai dari variabel baru - angka kelima berada antara 10 hingga 20, dan angka keenam berada antara 0 hingga 100."
      ],
      "metadata": {
        "id": "aW5y0VU8VBxx"
      }
    }
  ]
}