{
  "nbformat": 4,
  "nbformat_minor": 0,
  "metadata": {
    "colab": {
      "provenance": [],
      "collapsed_sections": [
        "WjKa8wDH-9em",
        "d0UYQ6GHBwze",
        "KAAEt_VgB84d",
        "ajNFIITJD1Wf",
        "dUnHRd0sFXCc"
      ],
      "authorship_tag": "ABX9TyP6UZhJLABi6yS5RkeG36gB",
      "include_colab_link": true
    },
    "kernelspec": {
      "name": "python3",
      "display_name": "Python 3"
    },
    "language_info": {
      "name": "python"
    }
  },
  "cells": [
    {
      "cell_type": "markdown",
      "metadata": {
        "id": "view-in-github",
        "colab_type": "text"
      },
      "source": [
        "<a href=\"https://colab.research.google.com/github/dzakiAdip/216_prakTESI/blob/main/216_laprak2_tesi.ipynb\" target=\"_parent\"><img src=\"https://colab.research.google.com/assets/colab-badge.svg\" alt=\"Open In Colab\"/></a>"
      ]
    },
    {
      "cell_type": "markdown",
      "source": [
        "### **Langkah Praktikum 1**\n",
        "<u>Neighborhood Biner (0 / 1)</u><br>\n",
        "\n",
        "---\n",
        "Fungsi: Untuk masalah yes/no, true/false, on/off<br>\n",
        "Cara Kerja: Flip satu elemen (0 jadi 1, 1 jadi 0)<br>\n",
        "Contoh Permasalahan: Masalah knapsack, seleksi fitur, scheduling\n",
        "\n"
      ],
      "metadata": {
        "id": "WjKa8wDH-9em"
      }
    },
    {
      "cell_type": "code",
      "source": [
        "import random\n",
        "\n",
        "# Fungsi untuk membalik nilai satu elemen secara acak dalam list\n",
        "def flipElemen(neighbors):\n",
        "  # Memilih index secara acak dari 0 sampai panjang list - 1\n",
        "  selectedIndex = random.randint(0, len(neighbors)-1)\n",
        "\n",
        "  # Jika nilai elemen yang terpilih adalah 0, ubah menjadi 1\n",
        "  if neighbors[selectedIndex] == 0:\n",
        "      neighbors[selectedIndex] = 1\n",
        "  # Jika nilai elemen yang terpilih adalah 1, ubah menjadi 0\n",
        "  else:\n",
        "    neighbors[selectedIndex] = 0\n",
        "\n",
        "  # Mengembalikan list yang sudah dimodifikasi\n",
        "  return neighbors\n",
        "\n",
        "# List awal berisi nilai biner\n",
        "solutions = [ 0, 0, 1, 0, 1, 1, 0, 1, 1]\n",
        "# Memanggil fungsi flipElemen untuk membalik satu elemen acak\n",
        "result = flipElemen(solutions)\n",
        "# Menampilkan hasil list setelah modifikasi\n",
        "print(result)"
      ],
      "metadata": {
        "colab": {
          "base_uri": "https://localhost:8080/"
        },
        "id": "mihypPoK_i27",
        "outputId": "40d64eda-9e1c-4d71-e971-7b147cba61ae"
      },
      "execution_count": null,
      "outputs": [
        {
          "output_type": "stream",
          "name": "stdout",
          "text": [
            "[0, 1, 1, 0, 1, 1, 0, 1, 1]\n"
          ]
        }
      ]
    },
    {
      "cell_type": "markdown",
      "source": [
        "### **Langkah Praktikum 2**\n",
        "<u>Neighborhood Diskrit</u>\n",
        "\n",
        "---\n",
        "Fungsi: Untuk nilai-nilai kategori/diskrit<br>\n",
        "Cara kerja: Ganti satu nilai dengan nilai lain dari domain terbatas <br>\n",
        "Contoh Permasalahan: Pemilihan warna, tipe material, kategori produk\n",
        "\n"
      ],
      "metadata": {
        "id": "d0UYQ6GHBwze"
      }
    },
    {
      "cell_type": "code",
      "source": [
        "import random\n",
        "\n",
        "# Fungsi untuk menghasilkan neighborhood diskrit dengan mengubah satu elemen secara acak\n",
        "def discrete_neighborhood(solution):\n",
        "    # Membuat salinan solusi untuk menghindari modifikasi langsung\n",
        "    new_solution = solution.copy()\n",
        "\n",
        "    # Memilih index acak untuk diubah\n",
        "    index = random.randint(0, len(new_solution) - 1)\n",
        "\n",
        "    # Mengubah nilai elemen pada index terpilih\n",
        "    # Jika binary (0/1), flip nilai\n",
        "    if new_solution[index] in [0, 1]:\n",
        "        new_solution[index] = 1 - new_solution[index]\n",
        "    else:\n",
        "        # Jika bukan binary, tambahkan nilai random kecil\n",
        "        new_solution[index] += random.choice([-1, 1])\n",
        "\n",
        "    return new_solution\n",
        "\n",
        "# Contoh penggunaan\n",
        "solusi_awal = [0, 1, 0, 1, 0, 1, 0, 1]\n",
        "print(\"Solusi awal:\", solusi_awal)\n",
        "\n",
        "# Menghasilkan beberapa solusi tetangga\n",
        "for i in range(3):\n",
        "    tetangga = discrete_neighborhood(solusi_awal)\n",
        "    print(f\"Neighborhood {i+1}: {tetangga}\")"
      ],
      "metadata": {
        "colab": {
          "base_uri": "https://localhost:8080/"
        },
        "id": "MK2xectWB_Ye",
        "outputId": "3a54c16c-0c2c-489c-8798-cda5881934ad"
      },
      "execution_count": null,
      "outputs": [
        {
          "output_type": "stream",
          "name": "stdout",
          "text": [
            "Solusi awal: [0, 1, 0, 1, 0, 1, 0, 1]\n",
            "Neighborhood 1: [0, 1, 1, 1, 0, 1, 0, 1]\n",
            "Neighborhood 2: [1, 1, 0, 1, 0, 1, 0, 1]\n",
            "Neighborhood 3: [0, 1, 0, 1, 0, 1, 0, 0]\n"
          ]
        }
      ]
    },
    {
      "cell_type": "markdown",
      "source": [
        "### **Langkah Praktikum 3**\n",
        "<u>Neighborhood Permutasi</u>\n",
        "* Tukar / Swap Dua Elemen\n",
        "\n",
        "---\n",
        "Fungsi: Untuk masalah urutan/rute<br>\n",
        "Contoh Permasalahan: TSP - menukar posisi 2 kota dalam rute\n"
      ],
      "metadata": {
        "id": "KAAEt_VgB84d"
      }
    },
    {
      "cell_type": "code",
      "source": [
        "import random\n",
        "\n",
        "# Fungsi untuk menukar posisi dua elemen secara acak dalam list\n",
        "def changeTwoElement(neighbors):\n",
        "    twoElement = 2  # Jumlah elemen yang akan ditukar\n",
        "    randomIndex = set() # Menggunakan set untuk menghindari duplikasi indeks\n",
        "\n",
        "    # Generate dua index acak yang berbeda\n",
        "    while len(randomIndex) < twoElement:\n",
        "        randomIndex.add(random.randint(0, len(neighbors)-1))\n",
        "\n",
        "    randomIndex = list(randomIndex) # Mengubah kembali ke list jika perlu\n",
        "\n",
        "    # Menukar nilai kedua elemen pada index yang terpilih\n",
        "    temp = neighbors[randomIndex[0]]\n",
        "    neighbors[randomIndex[0]] = neighbors[randomIndex[1]]\n",
        "    neighbors[randomIndex[1]] = temp\n",
        "\n",
        "    return neighbors\n",
        "\n",
        "# List solusi awal berisi angka\n",
        "solutions = [ 4, 6, 2, 3, 7, 5, 9, 8, 1]\n",
        "# Memanggil fungsi changeTwoElement untuk menukar dua elemen acak\n",
        "result = changeTwoElement(solutions)\n",
        "# Menampilkan hasil list setelah dua elemen ditukar\n",
        "print(result)"
      ],
      "metadata": {
        "colab": {
          "base_uri": "https://localhost:8080/"
        },
        "id": "qOM2NhTxCd3N",
        "outputId": "c12c5e56-1af8-4d7c-b762-031ff46f2e9c"
      },
      "execution_count": null,
      "outputs": [
        {
          "output_type": "stream",
          "name": "stdout",
          "text": [
            "[4, 9, 2, 3, 7, 5, 6, 8, 1]\n"
          ]
        }
      ]
    },
    {
      "cell_type": "markdown",
      "source": [
        "### **Langkah Praktikum 3**\n",
        "<u>Neighborhood Permutasi</u>\n",
        "* Membalik urutan n-elemen\n",
        "\n",
        "---\n",
        "Fungsi: Membalik segmen urutan untuk diversifikasi<br>\n",
        "Contoh Permasalahan: Optimasi rute dengan membalik bagian tertentu\n"
      ],
      "metadata": {
        "id": "ajNFIITJD1Wf"
      }
    },
    {
      "cell_type": "code",
      "source": [
        "import random\n",
        "\n",
        "# Fungsi untuk membalik urutan sejumlah N elemen dalam list\n",
        "def flip_N_Elemen(neighbors, N):\n",
        "    # Menentukan index awal secara acak untuk sub-array yang akan dibalik\n",
        "    lowerRandomIndex = random.randint(1, N-1)\n",
        "    # Menentukan index akhir berdasarkan index awal dan panjang N\n",
        "    upperRandomIndex = lowerRandomIndex + (N-1)\n",
        "    # Mengambil sub-array dari list berdasarkan index yang ditentukan\n",
        "    subNeighbors = neighbors[lowerRandomIndex:upperRandomIndex+1]\n",
        "\n",
        "    # Membalik urutan elemen dalam sub-array\n",
        "    inverseSubNeighbors = subNeighbors [::-1]\n",
        "\n",
        "    # Mengganti sub-array asli dengan sub-array yang sudah dibalik\n",
        "    neighbors[lowerRandomIndex:upperRandomIndex+1] = inverseSubNeighbors\n",
        "\n",
        "    return neighbors\n",
        "\n",
        "# List solusi awal berisi angka\n",
        "solutions = [ 4, 6, 2, 3, 7, 5, 9, 8, 1]\n",
        "# Jumlah elemen yang akan dibalik urutannya\n",
        "N = 5\n",
        "# Memanggil fungsi flip_N_Elemen untuk membalik urutan N elemen\n",
        "neighbors = flip_N_Elemen(solutions, N)\n",
        "# Menampilkan hasil list setelah N elemen dibalik urutannya\n",
        "print(neighbors)"
      ],
      "metadata": {
        "colab": {
          "base_uri": "https://localhost:8080/"
        },
        "id": "57W_8-_rESLU",
        "outputId": "89282389-3443-4580-ecc5-bfd6745b4b80"
      },
      "execution_count": null,
      "outputs": [
        {
          "output_type": "stream",
          "name": "stdout",
          "text": [
            "[4, 6, 9, 5, 7, 3, 2, 8, 1]\n"
          ]
        }
      ]
    },
    {
      "cell_type": "markdown",
      "source": [
        "### **Langkah Praktikum 4**\n",
        "<u>Neighborhood Representasi Real</u>\n",
        "\n",
        "---\n",
        "Fungsi: Untuk nilai kontinu/angka riil<br>\n",
        "Cara kerja: Tambah/kurangi nilai dengan step kecil<br>\n",
        "Contoh Permasalahan: Optimasi parameter mesin, tuning hyperparameter\n"
      ],
      "metadata": {
        "id": "dUnHRd0sFXCc"
      }
    },
    {
      "cell_type": "code",
      "source": [
        "import numpy as np\n",
        "import matplotlib.pyplot as plt\n",
        "\n",
        "# Menentukan titik pusat lingkaran\n",
        "Cx = 2.0\n",
        "Cy = 1.0\n",
        "# Menentukan radius lingkaran\n",
        "radius = 1.0\n",
        "# Menentukan jumlah titik (resolusi)\n",
        "resolution = 100\n",
        "# Membuat sudut (theta) dari 0 hingga 2*pi\n",
        "theta = np.linspace(0, 2 * np.pi, resolution)\n",
        "# Menghitung koordinat x dan y untuk lingkaran dengan pusat (Cx, Cy)\n",
        "x = Cx + radius * np.cos(theta)\n",
        "y = Cy + radius * np.sin(theta)\n",
        "# Menambahkan titik pusat ke daftar koordinat\n",
        "x = np.append(x, Cx)\n",
        "y = np.append(y, Cy)\n",
        "\n",
        "# Membuat plot lingkaran dan titik pusat\n",
        "plt.figure(figsize=(6, 6))\n",
        "plt.plot(x, y, 'o') # 'o' menggambar titik-titik\n",
        "plt.gca().set_aspect('equal', adjustable='box') # Mengatur skala sumbu agar lingkaran terlihat seperti lingkaran\n",
        "plt.title('Lingkaran dengan Pusat dan Titik Koordinat')\n",
        "plt.xlabel('X')\n",
        "plt.ylabel('Y')\n",
        "plt.grid(True)\n",
        "# Menampilkan plot\n",
        "plt.show()\n",
        "\n",
        "# Mencetak pasangan koordinat\n",
        "for i in range(len(x) - 1):\n",
        "    print(f\"Titik {i + 1}: ({x[i]}, {y[i]})\")"
      ],
      "metadata": {
        "colab": {
          "base_uri": "https://localhost:8080/",
          "height": 1000
        },
        "id": "UFHkdfqYFjl0",
        "outputId": "7c38e640-c352-452c-d2c4-f63e3ef70f5e"
      },
      "execution_count": null,
      "outputs": [
        {
          "output_type": "display_data",
          "data": {
            "text/plain": [
              "<Figure size 600x600 with 1 Axes>"
            ],
            "image/png": "[encoded data removed]"
          },
          "metadata": {}
        },
        {
          "output_type": "stream",
          "name": "stdout",
          "text": [
            "Titik 1: (3.0, 1.0)\n",
            "Titik 2: (2.9979866764718843, 1.0634239196565645)\n",
            "Titik 3: (2.9919548128307953, 1.1265924535737493)\n",
            "Titik 4: (2.9819286972627066, 1.1892512443604102)\n",
            "Titik 5: (2.9679487013963564, 1.2511479871810791)\n",
            "Titik 6: (2.9500711177409453, 1.312033445698487)\n",
            "Titik 7: (2.9283679330160726, 1.3716624556603276)\n",
            "Titik 8: (2.9029265382866214, 1.4297949120891715)\n",
            "Titik 9: (2.873849377069785, 1.4861967361004687)\n",
            "Titik 10: (2.841253532831181, 1.5406408174555977)\n",
            "Titik 11: (2.805270257531059, 1.5929079290546404)\n",
            "Titik 12: (2.766044443118978, 1.6427876096865393)\n",
            "Titik 13: (2.72373403810507, 1.690079011482112)\n",
            "Titik 14: (2.6785094115571324, 1.7345917086575333)\n",
            "Titik 15: (2.6305526670845225, 1.7761464642917568)\n",
            "Titik 16: (2.5800569095711983, 1.8145759520503357)\n",
            "Titik 17: (2.5272254676105024, 1.8497254299495145)\n",
            "Titik 18: (2.472271074772683, 1.881453363447582)\n",
            "Titik 19: (2.4154150130018865, 1.9096319953545184)\n",
            "Titik 20: (2.3568862215918718, 1.9341478602651065)\n",
            "Titik 21: (2.2969203753282748, 1.9549022414440738)\n",
            "Titik 22: (2.2357589355094274, 1.9718115683235418)\n",
            "Titik 23: (2.1736481776669305, 1.9848077530122081)\n",
            "Titik 24: (2.110838199901011, 1.9938384644612541)\n",
            "Titik 25: (2.0475819158237423, 1.998867339183008)\n",
            "Titik 26: (1.984134036165192, 1.9998741276738752)\n",
            "Titik 27: (1.9207500431432114, 1.9968547759519424)\n",
            "Titik 28: (1.8576851617267147, 1.9898214418809328)\n",
            "Titik 29: (1.7951933319348092, 1.9788024462147789)\n",
            "Titik 30: (1.733526186309965, 1.9638421585599422)\n",
            "Titik 31: (1.6729320366825784, 1.9450008187146683)\n",
            "Titik 32: (1.6136548743068713, 1.9223542941045815)\n",
            "Titik 33: (1.5559333873942258, 1.8959937742913358)\n",
            "Titik 34: (1.4999999999999998, 1.8660254037844384)\n",
            "Titik 35: (1.4460799361338896, 1.8325698546347713)\n",
            "Titik 36: (1.3943903128623332, 1.795761840530832)\n",
            "Titik 37: (1.345139266054715, 1.7557495743542582)\n",
            "Titik 38: (1.2985251122936785, 1.7126941713788626)\n",
            "Titik 39: (1.2547355503242454, 1.6667690005162918)\n",
            "Titik 40: (1.2139469052572125, 1.618158986220605)\n",
            "Titik 41: (1.1763234185701674, 1.5670598638627709)\n",
            "Titik 42: (1.142016586765023, 1.5136773915734063)\n",
            "Titik 43: (1.1111645513450767, 1.4582265217274104)\n",
            "Titik 44: (1.0838915425679305, 1.4009305354066135)\n",
            "Titik 45: (1.0603073792140916, 1.3420201433256689)\n",
            "Titik 46: (1.0405070263855025, 1.2817325568414297)\n",
            "Titik 47: (1.0245702131145928, 1.220310532786541)\n",
            "Titik 48: (1.0125611113236057, 1.15800139597335)\n",
            "Titik 49: (1.0045280774269154, 1.0950560433041825)\n",
            "Titik 50: (1.0005034576168148, 1.0317279334980676)\n",
            "Titik 51: (1.0005034576168148, 0.9682720665019321)\n",
            "Titik 52: (1.0045280774269154, 0.9049439566958174)\n",
            "Titik 53: (1.0125611113236057, 0.8419986040266499)\n",
            "Titik 54: (1.0245702131145928, 0.7796894672134594)\n",
            "Titik 55: (1.0405070263855025, 0.7182674431585702)\n",
            "Titik 56: (1.0603073792140916, 0.6579798566743313)\n",
            "Titik 57: (1.0838915425679305, 0.5990694645933863)\n",
            "Titik 58: (1.1111645513450765, 0.5417734782725897)\n",
            "Titik 59: (1.1420165867650232, 0.4863226084265936)\n",
            "Titik 60: (1.1763234185701672, 0.43294013613722937)\n",
            "Titik 61: (1.2139469052572127, 0.3818410137793947)\n",
            "Titik 62: (1.2547355503242452, 0.3332309994837085)\n",
            "Titik 63: (1.2985251122936787, 0.28730582862113707)\n",
            "Titik 64: (1.3451392660547148, 0.24425042564574184)\n",
            "Titik 65: (1.3943903128623334, 0.2042381594691679)\n",
            "Titik 66: (1.4460799361338896, 0.1674301453652287)\n",
            "Titik 67: (1.5000000000000004, 0.13397459621556118)\n",
            "Titik 68: (1.555933387394226, 0.10400622570866402)\n",
            "Titik 69: (1.6136548743068713, 0.07764570589541864)\n",
            "Titik 70: (1.6729320366825782, 0.054999181285331655)\n",
            "Titik 71: (1.7335261863099654, 0.03615784144005785)\n",
            "Titik 72: (1.7951933319348095, 0.021197553785221257)\n",
            "Titik 73: (1.8576851617267147, 0.010178558119067316)\n",
            "Titik 74: (1.9207500431432112, 0.0031452240480577265)\n",
            "Titik 75: (1.9841340361651925, 0.0001258723261249317)\n",
            "Titik 76: (2.0475819158237423, 0.0011326608169920371)\n",
            "Titik 77: (2.110838199901011, 0.006161535538745877)\n",
            "Titik 78: (2.17364817766693, 0.015192246987791869)\n",
            "Titik 79: (2.2357589355094274, 0.028188431676458348)\n",
            "Titik 80: (2.2969203753282748, 0.045097758555926126)\n",
            "Titik 81: (2.3568862215918718, 0.06585213973489323)\n",
            "Titik 82: (2.415415013001887, 0.09036800464548178)\n",
            "Titik 83: (2.472271074772683, 0.11854663655241804)\n",
            "Titik 84: (2.5272254676105024, 0.1502745700504856)\n",
            "Titik 85: (2.580056909571198, 0.18542404794966416)\n",
            "Titik 86: (2.630552667084523, 0.2238535357082434)\n",
            "Titik 87: (2.6785094115571324, 0.2654082913424668)\n",
            "Titik 88: (2.72373403810507, 0.30992098851788796)\n",
            "Titik 89: (2.766044443118978, 0.3572123903134604)\n",
            "Titik 90: (2.805270257531059, 0.4070920709453598)\n",
            "Titik 91: (2.841253532831181, 0.45935918254440256)\n",
            "Titik 92: (2.873849377069785, 0.5138032638995311)\n",
            "Titik 93: (2.902926538286621, 0.570205087910828)\n",
            "Titik 94: (2.9283679330160726, 0.6283375443396728)\n",
            "Titik 95: (2.9500711177409453, 0.687966554301513)\n",
            "Titik 96: (2.9679487013963564, 0.7488520128189207)\n",
            "Titik 97: (2.981928697262707, 0.8107487556395903)\n",
            "Titik 98: (2.9919548128307953, 0.873407546426251)\n",
            "Titik 99: (2.9979866764718843, 0.9365760803434355)\n",
            "Titik 100: (3.0, 0.9999999999999998)\n"
          ]
        }
      ]
    }
  ]
}